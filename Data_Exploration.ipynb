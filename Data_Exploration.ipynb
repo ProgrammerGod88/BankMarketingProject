{
 "cells": [
  {
   "cell_type": "code",
   "execution_count": 7,
   "id": "52b1476c-d5f2-413c-86cf-bf0bb2be64c7",
   "metadata": {},
   "outputs": [],
   "source": [
    "import pandas as pd"
   ]
  },
  {
   "cell_type": "code",
   "execution_count": 8,
   "id": "1666f255-d1ee-400f-a088-3fa644e261dd",
   "metadata": {},
   "outputs": [],
   "source": [
    "from ucimlrepo import fetch_ucirepo \n",
    "  \n",
    "# fetch dataset \n",
    "bank_marketing = fetch_ucirepo(id=222) \n"
   ]
  },
  {
   "cell_type": "code",
   "execution_count": 11,
   "id": "afe6d562-35cc-4c54-bbcf-d1e335c2ff37",
   "metadata": {},
   "outputs": [
    {
     "name": "stdout",
     "output_type": "stream",
     "text": [
      "           name     role         type      demographic  \\\n",
      "0           age  Feature      Integer              Age   \n",
      "1           job  Feature  Categorical       Occupation   \n",
      "2       marital  Feature  Categorical   Marital Status   \n",
      "3     education  Feature  Categorical  Education Level   \n",
      "4       default  Feature       Binary             None   \n",
      "5       balance  Feature      Integer             None   \n",
      "6       housing  Feature       Binary             None   \n",
      "7          loan  Feature       Binary             None   \n",
      "8       contact  Feature  Categorical             None   \n",
      "9   day_of_week  Feature         Date             None   \n",
      "10        month  Feature         Date             None   \n",
      "11     duration  Feature      Integer             None   \n",
      "12     campaign  Feature      Integer             None   \n",
      "13        pdays  Feature      Integer             None   \n",
      "14     previous  Feature      Integer             None   \n",
      "15     poutcome  Feature  Categorical             None   \n",
      "16            y   Target       Binary             None   \n",
      "\n",
      "                                          description  units missing_values  \n",
      "0                                                None   None             no  \n",
      "1   type of job (categorical: 'admin.','blue-colla...   None             no  \n",
      "2   marital status (categorical: 'divorced','marri...   None             no  \n",
      "3   (categorical: 'basic.4y','basic.6y','basic.9y'...   None             no  \n",
      "4                              has credit in default?   None             no  \n",
      "5                              average yearly balance  euros             no  \n",
      "6                                   has housing loan?   None             no  \n",
      "7                                  has personal loan?   None             no  \n",
      "8   contact communication type (categorical: 'cell...   None            yes  \n",
      "9                        last contact day of the week   None             no  \n",
      "10  last contact month of year (categorical: 'jan'...   None             no  \n",
      "11   last contact duration, in seconds (numeric). ...   None             no  \n",
      "12  number of contacts performed during this campa...   None             no  \n",
      "13  number of days that passed by after the client...   None            yes  \n",
      "14  number of contacts performed before this campa...   None             no  \n",
      "15  outcome of the previous marketing campaign (ca...   None            yes  \n",
      "16          has the client subscribed a term deposit?   None             no  \n"
     ]
    }
   ],
   "source": [
    "print(bank_marketing.variables) "
   ]
  },
  {
   "cell_type": "code",
   "execution_count": 22,
   "id": "f9dc4f91-c691-43eb-ad03-004741eb6724",
   "metadata": {},
   "outputs": [
    {
     "data": {
      "text/plain": [
       "{'ids': None,\n",
       " 'features':        age           job   marital  education default  balance housing loan  \\\n",
       " 0       58    management   married   tertiary      no     2143     yes   no   \n",
       " 1       44    technician    single  secondary      no       29     yes   no   \n",
       " 2       33  entrepreneur   married  secondary      no        2     yes  yes   \n",
       " 3       47   blue-collar   married        NaN      no     1506     yes   no   \n",
       " 4       33           NaN    single        NaN      no        1      no   no   \n",
       " ...    ...           ...       ...        ...     ...      ...     ...  ...   \n",
       " 45206   51    technician   married   tertiary      no      825      no   no   \n",
       " 45207   71       retired  divorced    primary      no     1729      no   no   \n",
       " 45208   72       retired   married  secondary      no     5715      no   no   \n",
       " 45209   57   blue-collar   married  secondary      no      668      no   no   \n",
       " 45210   37  entrepreneur   married  secondary      no     2971      no   no   \n",
       " \n",
       "          contact  day_of_week month  duration  campaign  pdays  previous  \\\n",
       " 0            NaN            5   may       261         1     -1         0   \n",
       " 1            NaN            5   may       151         1     -1         0   \n",
       " 2            NaN            5   may        76         1     -1         0   \n",
       " 3            NaN            5   may        92         1     -1         0   \n",
       " 4            NaN            5   may       198         1     -1         0   \n",
       " ...          ...          ...   ...       ...       ...    ...       ...   \n",
       " 45206   cellular           17   nov       977         3     -1         0   \n",
       " 45207   cellular           17   nov       456         2     -1         0   \n",
       " 45208   cellular           17   nov      1127         5    184         3   \n",
       " 45209  telephone           17   nov       508         4     -1         0   \n",
       " 45210   cellular           17   nov       361         2    188        11   \n",
       " \n",
       "       poutcome  \n",
       " 0          NaN  \n",
       " 1          NaN  \n",
       " 2          NaN  \n",
       " 3          NaN  \n",
       " 4          NaN  \n",
       " ...        ...  \n",
       " 45206      NaN  \n",
       " 45207      NaN  \n",
       " 45208  success  \n",
       " 45209      NaN  \n",
       " 45210    other  \n",
       " \n",
       " [45211 rows x 16 columns],\n",
       " 'targets':          y\n",
       " 0       no\n",
       " 1       no\n",
       " 2       no\n",
       " 3       no\n",
       " 4       no\n",
       " ...    ...\n",
       " 45206  yes\n",
       " 45207  yes\n",
       " 45208  yes\n",
       " 45209   no\n",
       " 45210   no\n",
       " \n",
       " [45211 rows x 1 columns],\n",
       " 'original':        age           job   marital  education default  balance housing loan  \\\n",
       " 0       58    management   married   tertiary      no     2143     yes   no   \n",
       " 1       44    technician    single  secondary      no       29     yes   no   \n",
       " 2       33  entrepreneur   married  secondary      no        2     yes  yes   \n",
       " 3       47   blue-collar   married        NaN      no     1506     yes   no   \n",
       " 4       33           NaN    single        NaN      no        1      no   no   \n",
       " ...    ...           ...       ...        ...     ...      ...     ...  ...   \n",
       " 45206   51    technician   married   tertiary      no      825      no   no   \n",
       " 45207   71       retired  divorced    primary      no     1729      no   no   \n",
       " 45208   72       retired   married  secondary      no     5715      no   no   \n",
       " 45209   57   blue-collar   married  secondary      no      668      no   no   \n",
       " 45210   37  entrepreneur   married  secondary      no     2971      no   no   \n",
       " \n",
       "          contact  day_of_week month  duration  campaign  pdays  previous  \\\n",
       " 0            NaN            5   may       261         1     -1         0   \n",
       " 1            NaN            5   may       151         1     -1         0   \n",
       " 2            NaN            5   may        76         1     -1         0   \n",
       " 3            NaN            5   may        92         1     -1         0   \n",
       " 4            NaN            5   may       198         1     -1         0   \n",
       " ...          ...          ...   ...       ...       ...    ...       ...   \n",
       " 45206   cellular           17   nov       977         3     -1         0   \n",
       " 45207   cellular           17   nov       456         2     -1         0   \n",
       " 45208   cellular           17   nov      1127         5    184         3   \n",
       " 45209  telephone           17   nov       508         4     -1         0   \n",
       " 45210   cellular           17   nov       361         2    188        11   \n",
       " \n",
       "       poutcome    y  \n",
       " 0          NaN   no  \n",
       " 1          NaN   no  \n",
       " 2          NaN   no  \n",
       " 3          NaN   no  \n",
       " 4          NaN   no  \n",
       " ...        ...  ...  \n",
       " 45206      NaN  yes  \n",
       " 45207      NaN  yes  \n",
       " 45208  success  yes  \n",
       " 45209      NaN   no  \n",
       " 45210    other   no  \n",
       " \n",
       " [45211 rows x 17 columns],\n",
       " 'headers': Index(['age', 'job', 'marital', 'education', 'default', 'balance', 'housing',\n",
       "        'loan', 'contact', 'day_of_week', 'month', 'duration', 'campaign',\n",
       "        'pdays', 'previous', 'poutcome', 'y'],\n",
       "       dtype='object')}"
      ]
     },
     "execution_count": 22,
     "metadata": {},
     "output_type": "execute_result"
    }
   ],
   "source": [
    "bank_marketing.data"
   ]
  },
  {
   "cell_type": "code",
   "execution_count": null,
   "id": "2d8f742f-d02b-48a2-8512-8c9751c45289",
   "metadata": {},
   "outputs": [],
   "source": []
  }
 ],
 "metadata": {
  "kernelspec": {
   "display_name": "Python 3 (ipykernel)",
   "language": "python",
   "name": "python3"
  },
  "language_info": {
   "codemirror_mode": {
    "name": "ipython",
    "version": 3
   },
   "file_extension": ".py",
   "mimetype": "text/x-python",
   "name": "python",
   "nbconvert_exporter": "python",
   "pygments_lexer": "ipython3",
   "version": "3.10.11"
  }
 },
 "nbformat": 4,
 "nbformat_minor": 5
}
